{
 "cells": [
  {
   "cell_type": "code",
<<<<<<< HEAD
   "execution_count": 19,
=======
   "execution_count": 1,
>>>>>>> b03d11d0a9aa7f35ab8ee5818244a860990a5db8
   "id": "44495f39",
   "metadata": {},
   "outputs": [],
   "source": [
    "# Import the random module.\n",
    "import random"
   ]
  },
  {
   "cell_type": "code",
<<<<<<< HEAD
   "execution_count": 20,
   "id": "58bdb37c",
=======
   "execution_count": 2,
   "id": "f4c1b6fd",
>>>>>>> b03d11d0a9aa7f35ab8ee5818244a860990a5db8
   "metadata": {},
   "outputs": [
    {
     "data": {
      "text/plain": [
<<<<<<< HEAD
       "-23"
      ]
     },
     "execution_count": 20,
=======
       "26"
      ]
     },
     "execution_count": 2,
>>>>>>> b03d11d0a9aa7f35ab8ee5818244a860990a5db8
     "metadata": {},
     "output_type": "execute_result"
    }
   ],
   "source": [
    "random.randint(-90,90)"
   ]
  },
  {
<<<<<<< HEAD
   "cell_type": "raw",
   "id": "43264937",
   "metadata": {},
   "source": []
  },
  {
   "cell_type": "code",
   "execution_count": 21,
=======
   "cell_type": "code",
   "execution_count": 3,
>>>>>>> b03d11d0a9aa7f35ab8ee5818244a860990a5db8
   "id": "8cffbabf",
   "metadata": {},
   "outputs": [
    {
     "data": {
      "text/plain": [
<<<<<<< HEAD
       "0.6955580643246074"
      ]
     },
     "execution_count": 21,
=======
       "0.30793579838857443"
      ]
     },
     "execution_count": 3,
>>>>>>> b03d11d0a9aa7f35ab8ee5818244a860990a5db8
     "metadata": {},
     "output_type": "execute_result"
    }
   ],
   "source": [
    "random.random()"
   ]
  },
  {
   "cell_type": "code",
<<<<<<< HEAD
   "execution_count": 22,
=======
   "execution_count": 4,
>>>>>>> b03d11d0a9aa7f35ab8ee5818244a860990a5db8
   "id": "cd3ff978",
   "metadata": {},
   "outputs": [],
   "source": [
    "x = 1\n",
    "latitudes = []\n",
    "while x < 11:\n",
    "    random_lat = random.randint(-90, 89) + random.random()\n",
    "    latitudes.append(random_lat)\n",
    "    x += 1"
   ]
  },
  {
   "cell_type": "code",
<<<<<<< HEAD
   "execution_count": 23,
=======
   "execution_count": 5,
>>>>>>> b03d11d0a9aa7f35ab8ee5818244a860990a5db8
   "id": "61ebf3c1",
   "metadata": {},
   "outputs": [
    {
     "data": {
      "text/plain": [
<<<<<<< HEAD
       "[-27.374832998994403,\n",
       " 26.386089002776213,\n",
       " 34.041456551908496,\n",
       " 11.392063634218681,\n",
       " -61.01438334700422,\n",
       " -6.094269665663571,\n",
       " -13.554837222778925,\n",
       " 32.86836708445826,\n",
       " 6.957832944304311,\n",
       " 19.629440999817227]"
      ]
     },
     "execution_count": 23,
=======
       "[32.090867527842946,\n",
       " -18.974524470096856,\n",
       " 22.79016807670523,\n",
       " -56.514813172807955,\n",
       " 28.860302605320104,\n",
       " -2.997882764883702,\n",
       " -16.369069061874388,\n",
       " -68.80583114275704,\n",
       " -54.98093430511598,\n",
       " 88.89958479986572]"
      ]
     },
     "execution_count": 5,
>>>>>>> b03d11d0a9aa7f35ab8ee5818244a860990a5db8
     "metadata": {},
     "output_type": "execute_result"
    }
   ],
   "source": [
    "latitudes"
   ]
  },
  {
   "cell_type": "code",
<<<<<<< HEAD
   "execution_count": 24,
=======
   "execution_count": 7,
>>>>>>> b03d11d0a9aa7f35ab8ee5818244a860990a5db8
   "id": "25cf1283",
   "metadata": {},
   "outputs": [
    {
     "data": {
      "text/plain": [
<<<<<<< HEAD
       "-45"
      ]
     },
     "execution_count": 24,
=======
       "83"
      ]
     },
     "execution_count": 7,
>>>>>>> b03d11d0a9aa7f35ab8ee5818244a860990a5db8
     "metadata": {},
     "output_type": "execute_result"
    }
   ],
   "source": [
    "random.randrange(-90, 90, step=1)"
   ]
  },
  {
   "cell_type": "code",
<<<<<<< HEAD
   "execution_count": 25,
=======
   "execution_count": 8,
>>>>>>> b03d11d0a9aa7f35ab8ee5818244a860990a5db8
   "id": "55df8b4d",
   "metadata": {},
   "outputs": [
    {
     "data": {
      "text/plain": [
<<<<<<< HEAD
       "-6"
      ]
     },
     "execution_count": 25,
=======
       "-18"
      ]
     },
     "execution_count": 8,
>>>>>>> b03d11d0a9aa7f35ab8ee5818244a860990a5db8
     "metadata": {},
     "output_type": "execute_result"
    }
   ],
   "source": [
    "random.randrange(-90, 90, step=3)"
   ]
  },
  {
   "cell_type": "code",
<<<<<<< HEAD
   "execution_count": 26,
=======
   "execution_count": 9,
>>>>>>> b03d11d0a9aa7f35ab8ee5818244a860990a5db8
   "id": "14b8e444",
   "metadata": {},
   "outputs": [
    {
     "data": {
      "text/plain": [
<<<<<<< HEAD
       "-33.342809983793444"
      ]
     },
     "execution_count": 26,
=======
       "40.526104707331"
      ]
     },
     "execution_count": 9,
>>>>>>> b03d11d0a9aa7f35ab8ee5818244a860990a5db8
     "metadata": {},
     "output_type": "execute_result"
    }
   ],
   "source": [
    "random.uniform(-90, 90)"
   ]
  },
  {
   "cell_type": "code",
<<<<<<< HEAD
   "execution_count": 27,
=======
   "execution_count": 10,
>>>>>>> b03d11d0a9aa7f35ab8ee5818244a860990a5db8
   "id": "29cc0123",
   "metadata": {},
   "outputs": [],
   "source": [
    "# Import the NumPy module.\n",
    "import numpy as np"
   ]
  },
  {
   "cell_type": "code",
<<<<<<< HEAD
   "execution_count": 28,
=======
   "execution_count": 12,
>>>>>>> b03d11d0a9aa7f35ab8ee5818244a860990a5db8
   "id": "51fbc257",
   "metadata": {},
   "outputs": [
    {
     "data": {
      "text/plain": [
<<<<<<< HEAD
       "17.830339802338443"
      ]
     },
     "execution_count": 28,
=======
       "50.0067797631543"
      ]
     },
     "execution_count": 12,
>>>>>>> b03d11d0a9aa7f35ab8ee5818244a860990a5db8
     "metadata": {},
     "output_type": "execute_result"
    }
   ],
   "source": [
    "np.random.uniform(-90.000, 90.000)"
   ]
  },
  {
   "cell_type": "code",
<<<<<<< HEAD
   "execution_count": 29,
=======
   "execution_count": 14,
>>>>>>> b03d11d0a9aa7f35ab8ee5818244a860990a5db8
   "id": "ff91f0a4",
   "metadata": {},
   "outputs": [
    {
     "data": {
      "text/plain": [
<<<<<<< HEAD
       "array([-76.16177545, -51.85869361, -68.32098602,  22.20420279,\n",
       "       -42.13837558,  -6.47679063,  53.83713555,  56.50315237,\n",
       "       -73.10286053, -70.67193179,  53.57558371,  11.40962839,\n",
       "        28.60806708, -71.68348776, -43.47289696,  81.63366037,\n",
       "       -50.99938402,  52.27020117, -17.41488165, -34.72350544,\n",
       "        27.8939596 ,  43.94798838, -81.36158833,  63.86337585,\n",
       "       -63.73928468,  89.67313032,   1.69892328,  55.23022083,\n",
       "        58.87973116,  76.60687046, -18.44272498, -67.34187794,\n",
       "        44.41700411, -55.30858377,  12.52630285, -43.72706061,\n",
       "       -10.574275  ,  45.71185233,  51.19578778, -73.88140967,\n",
       "        23.58122153,  33.05620962,  30.02304391,  80.64086283,\n",
       "        63.68724005, -19.925539  , -22.80094322,  65.78072184,\n",
       "        39.81043027,  11.41180234])"
      ]
     },
     "execution_count": 29,
=======
       "array([ 37.26833193, -89.34988247, -86.82360718,  41.54803571,\n",
       "        23.52625022, -83.97278424,  -7.96851385,  18.9270492 ,\n",
       "       -86.54465952,  32.4633356 ,   6.07049031, -35.97247424,\n",
       "       -51.20333323, -22.3840869 ,  73.27528771, -12.33267419,\n",
       "        -8.46725646, -19.92505864,  85.1370016 ,  32.76684096,\n",
       "       -80.82601272, -25.32940134,  85.27560419,  89.12833387,\n",
       "        83.58297932, -20.05967093, -87.76598462, -69.82127903,\n",
       "         1.0373128 , -72.46003341,  33.78300268, -37.20450413,\n",
       "       -46.33965205,  61.39190351, -14.70878822, -13.55341757,\n",
       "       -62.97846468,  19.18127828,   6.32052615, -46.74404614,\n",
       "       -12.91928677,   4.4853146 , -38.58920647, -31.79103972,\n",
       "        29.74762351, -79.21002808, -76.3066937 , -72.62402283,\n",
       "        40.43676287,  44.85316151])"
      ]
     },
     "execution_count": 14,
>>>>>>> b03d11d0a9aa7f35ab8ee5818244a860990a5db8
     "metadata": {},
     "output_type": "execute_result"
    }
   ],
   "source": [
    "np.random.uniform(-90.000, 90.000, size=50)"
   ]
  },
  {
   "cell_type": "code",
<<<<<<< HEAD
   "execution_count": 30,
=======
   "execution_count": 15,
>>>>>>> b03d11d0a9aa7f35ab8ee5818244a860990a5db8
   "id": "0f3dda8f",
   "metadata": {},
   "outputs": [],
   "source": [
    "# Import timeit.\n",
    "import timeit"
   ]
  },
  {
   "cell_type": "code",
<<<<<<< HEAD
   "execution_count": 31,
=======
   "execution_count": 16,
>>>>>>> b03d11d0a9aa7f35ab8ee5818244a860990a5db8
   "id": "676727c2",
   "metadata": {},
   "outputs": [
    {
     "name": "stdout",
     "output_type": "stream",
     "text": [
<<<<<<< HEAD
      "20.1 µs ± 795 ns per loop (mean ± std. dev. of 7 runs, 10000 loops each)\n"
=======
      "28.2 µs ± 13.9 µs per loop (mean ± std. dev. of 7 runs, 10000 loops each)\n"
>>>>>>> b03d11d0a9aa7f35ab8ee5818244a860990a5db8
     ]
    }
   ],
   "source": [
    "%timeit np.random.uniform(-90.000, 90.000, size=1500)"
   ]
  },
  {
   "cell_type": "code",
<<<<<<< HEAD
   "execution_count": 32,
=======
   "execution_count": 18,
>>>>>>> b03d11d0a9aa7f35ab8ee5818244a860990a5db8
   "id": "dfe0dea7",
   "metadata": {},
   "outputs": [],
   "source": [
    "def latitudes(size):\n",
    "    latitudes = []\n",
    "    x = 0\n",
    "    while x < (size):\n",
    "        random_lat = random.randint(-90, 90) + random.random()\n",
    "        latitudes.append(random_lat)\n",
    "        x += 1\n",
    "    return latitudes"
   ]
  },
  {
   "cell_type": "code",
<<<<<<< HEAD
   "execution_count": 18,
=======
   "execution_count": 19,
>>>>>>> b03d11d0a9aa7f35ab8ee5818244a860990a5db8
   "id": "2751332a",
   "metadata": {},
   "outputs": [
    {
     "name": "stdout",
     "output_type": "stream",
     "text": [
<<<<<<< HEAD
      "3.3 ms ± 224 µs per loop (mean ± std. dev. of 7 runs, 100 loops each)\n"
=======
      "3.22 ms ± 354 µs per loop (mean ± std. dev. of 7 runs, 100 loops each)\n"
>>>>>>> b03d11d0a9aa7f35ab8ee5818244a860990a5db8
     ]
    }
   ],
   "source": [
    "# Call the function with 1500.\n",
    "%timeit latitudes(1500)"
   ]
  },
  {
   "cell_type": "code",
   "execution_count": null,
   "id": "83fcd7d8",
   "metadata": {},
   "outputs": [],
   "source": []
  }
 ],
 "metadata": {
  "kernelspec": {
   "display_name": "PythonData",
   "language": "python",
   "name": "pythondata"
  },
  "language_info": {
   "codemirror_mode": {
    "name": "ipython",
    "version": 3
   },
   "file_extension": ".py",
   "mimetype": "text/x-python",
   "name": "python",
   "nbconvert_exporter": "python",
   "pygments_lexer": "ipython3",
   "version": "3.7.11"
  }
 },
 "nbformat": 4,
 "nbformat_minor": 5
}
